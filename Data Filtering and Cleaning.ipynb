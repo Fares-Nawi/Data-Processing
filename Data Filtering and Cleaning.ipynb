{
 "cells": [
  {
   "cell_type": "code",
   "execution_count": 1,
   "id": "0e1efb31",
   "metadata": {},
   "outputs": [],
   "source": [
    "import gzip\n",
    "path =\"/home/fares/Documents/datasets/amazon_reviews_us_Gift_Card_v1_00.tsv.gz\"\n",
    "f = gzip.open(path,'rt')"
   ]
  },
  {
   "cell_type": "code",
   "execution_count": 2,
   "id": "a3428ea5",
   "metadata": {},
   "outputs": [],
   "source": [
    "import csv\n",
    "reader = csv.reader(f, delimiter ='\\t')"
   ]
  },
  {
   "cell_type": "code",
   "execution_count": 3,
   "id": "2a0e8918",
   "metadata": {},
   "outputs": [],
   "source": [
    "header = next(reader)"
   ]
  },
  {
   "cell_type": "code",
   "execution_count": 4,
   "id": "d0eb30cd",
   "metadata": {},
   "outputs": [],
   "source": [
    "dataset = []\n",
    "for line in f:\n",
    "    line = line.split('\\t')\n",
    "    d = dict(zip(header,line))\n",
    "    d['star_rating'] =  int(d['star_rating'])\n",
    "    d['helpful_votes'] = int(d['helpful_votes'])\n",
    "    d['total_votes'] = int(d['total_votes'])\n",
    "    for field in ['verified_purchase','vine']:\n",
    "        if d[field] == 'Y':\n",
    "            d[field] = True\n",
    "        else:\n",
    "            d[field] = False\n",
    "    dataset.append(d)"
   ]
  },
  {
   "cell_type": "code",
   "execution_count": 5,
   "id": "2d58c907",
   "metadata": {},
   "outputs": [
    {
     "data": {
      "text/plain": [
       "149086"
      ]
     },
     "execution_count": 5,
     "metadata": {},
     "output_type": "execute_result"
    }
   ],
   "source": [
    "len(dataset)"
   ]
  },
  {
   "cell_type": "code",
   "execution_count": 6,
   "id": "ca22a3cc",
   "metadata": {},
   "outputs": [
    {
     "data": {
      "text/plain": [
       "{'marketplace': 'US',\n",
       " 'customer_id': '24371595',\n",
       " 'review_id': 'R27ZP1F1CD0C3Y',\n",
       " 'product_id': 'B004LLIL5A',\n",
       " 'product_parent': '346014806',\n",
       " 'product_title': 'Amazon eGift Card - Celebrate',\n",
       " 'product_category': 'Gift Card',\n",
       " 'star_rating': 5,\n",
       " 'helpful_votes': 0,\n",
       " 'total_votes': 0,\n",
       " 'vine': False,\n",
       " 'verified_purchase': True,\n",
       " 'review_headline': 'Five Stars',\n",
       " 'review_body': 'Great birthday gift for a young adult.',\n",
       " 'review_date': '2015-08-31\\n'}"
      ]
     },
     "execution_count": 6,
     "metadata": {},
     "output_type": "execute_result"
    }
   ],
   "source": [
    "dataset[0]"
   ]
  },
  {
   "cell_type": "markdown",
   "id": "9df57a83",
   "metadata": {},
   "source": [
    "### remove instuance that not contains review_date"
   ]
  },
  {
   "cell_type": "code",
   "execution_count": 7,
   "id": "374e0d2f",
   "metadata": {},
   "outputs": [],
   "source": [
    "dataset = [d for d in dataset if 'review_date' in d]"
   ]
  },
  {
   "cell_type": "code",
   "execution_count": 8,
   "id": "22189e15",
   "metadata": {},
   "outputs": [
    {
     "data": {
      "text/plain": [
       "149086"
      ]
     },
     "execution_count": 8,
     "metadata": {},
     "output_type": "execute_result"
    }
   ],
   "source": [
    "len(dataset)"
   ]
  },
  {
   "cell_type": "markdown",
   "id": "02528794",
   "metadata": {},
   "source": [
    "### Filtering by date"
   ]
  },
  {
   "cell_type": "code",
   "execution_count": 9,
   "id": "11e3b539",
   "metadata": {},
   "outputs": [],
   "source": [
    "for d in dataset:\n",
    "    d['yearInt'] = int(d['review_date'][:4])"
   ]
  },
  {
   "cell_type": "code",
   "execution_count": 10,
   "id": "62f32f1e",
   "metadata": {},
   "outputs": [
    {
     "data": {
      "text/plain": [
       "{'marketplace': 'US',\n",
       " 'customer_id': '24371595',\n",
       " 'review_id': 'R27ZP1F1CD0C3Y',\n",
       " 'product_id': 'B004LLIL5A',\n",
       " 'product_parent': '346014806',\n",
       " 'product_title': 'Amazon eGift Card - Celebrate',\n",
       " 'product_category': 'Gift Card',\n",
       " 'star_rating': 5,\n",
       " 'helpful_votes': 0,\n",
       " 'total_votes': 0,\n",
       " 'vine': False,\n",
       " 'verified_purchase': True,\n",
       " 'review_headline': 'Five Stars',\n",
       " 'review_body': 'Great birthday gift for a young adult.',\n",
       " 'review_date': '2015-08-31\\n',\n",
       " 'yearInt': 2015}"
      ]
     },
     "execution_count": 10,
     "metadata": {},
     "output_type": "execute_result"
    }
   ],
   "source": [
    "dataset[0]"
   ]
  },
  {
   "cell_type": "code",
   "execution_count": 11,
   "id": "55cf4026",
   "metadata": {},
   "outputs": [],
   "source": [
    "# this is to use it later when i filter all the data and i need to practice more exercices\n",
    "dataset2 = dataset"
   ]
  },
  {
   "cell_type": "markdown",
   "id": "5e72215e",
   "metadata": {},
   "source": [
    "### Discard reviews written before 2010"
   ]
  },
  {
   "cell_type": "code",
   "execution_count": 12,
   "id": "6d2f2bc4",
   "metadata": {},
   "outputs": [],
   "source": [
    "dataset = [d for d in dataset if d['yearInt'] > 2009]"
   ]
  },
  {
   "cell_type": "code",
   "execution_count": 13,
   "id": "dd6ebd8e",
   "metadata": {},
   "outputs": [
    {
     "data": {
      "text/plain": [
       "148872"
      ]
     },
     "execution_count": 13,
     "metadata": {},
     "output_type": "execute_result"
    }
   ],
   "source": [
    "len(dataset)"
   ]
  },
  {
   "cell_type": "markdown",
   "id": "fffb75a0",
   "metadata": {},
   "source": [
    "### Filtering by review quality"
   ]
  },
  {
   "cell_type": "markdown",
   "id": "b311b915",
   "metadata": {},
   "source": [
    "######                   \"<3\"  we don't know if its true helpful yet or not    |    delete any with less than 50% helpfulness          "
   ]
  },
  {
   "cell_type": "code",
   "execution_count": 14,
   "id": "deef1e6d",
   "metadata": {},
   "outputs": [],
   "source": [
    "dataset = [d for d in dataset if d['total_votes']<3 or d['helpful_votes']/d['total_votes'] >= 0.5]"
   ]
  },
  {
   "cell_type": "code",
   "execution_count": 15,
   "id": "475248ab",
   "metadata": {},
   "outputs": [
    {
     "data": {
      "text/plain": [
       "148578"
      ]
     },
     "execution_count": 15,
     "metadata": {},
     "output_type": "execute_result"
    }
   ],
   "source": [
    "len(dataset)"
   ]
  },
  {
   "cell_type": "markdown",
   "id": "93fda07c",
   "metadata": {},
   "source": [
    "### Filtering by user activity"
   ]
  },
  {
   "cell_type": "code",
   "execution_count": 16,
   "id": "91e2e5c7",
   "metadata": {},
   "outputs": [],
   "source": [
    "from collections import defaultdict"
   ]
  },
  {
   "cell_type": "code",
   "execution_count": 17,
   "id": "e2d842c7",
   "metadata": {},
   "outputs": [],
   "source": [
    "nbReviewPerUser = defaultdict(int)"
   ]
  },
  {
   "cell_type": "code",
   "execution_count": 18,
   "id": "a6188baf",
   "metadata": {},
   "outputs": [],
   "source": [
    "for d in dataset:\n",
    "    nbReviewPerUser[d['customer_id']] += 1"
   ]
  },
  {
   "cell_type": "code",
   "execution_count": 19,
   "id": "6a4df92a",
   "metadata": {},
   "outputs": [],
   "source": [
    "dataset = [d for d in dataset if nbReviewPerUser[d['customer_id']] > 1 ]"
   ]
  },
  {
   "cell_type": "code",
   "execution_count": 20,
   "id": "d63ec4dd",
   "metadata": {},
   "outputs": [
    {
     "data": {
      "text/plain": [
       "11289"
      ]
     },
     "execution_count": 20,
     "metadata": {},
     "output_type": "execute_result"
    }
   ],
   "source": [
    "len(dataset)"
   ]
  },
  {
   "cell_type": "markdown",
   "id": "1f9807d9",
   "metadata": {},
   "source": [
    "### Filtering By Review Length"
   ]
  },
  {
   "cell_type": "code",
   "execution_count": 21,
   "id": "6b9e470c",
   "metadata": {},
   "outputs": [],
   "source": [
    "dataset = [d for d in dataset if len(d['review_body'].split()) >= 10]"
   ]
  },
  {
   "cell_type": "code",
   "execution_count": 22,
   "id": "facfa332",
   "metadata": {},
   "outputs": [
    {
     "data": {
      "text/plain": [
       "7098"
      ]
     },
     "execution_count": 22,
     "metadata": {},
     "output_type": "execute_result"
    }
   ],
   "source": [
    "len(dataset)"
   ]
  },
  {
   "cell_type": "markdown",
   "id": "fff5ec9c",
   "metadata": {},
   "source": [
    "### Filtering product that have few reviews"
   ]
  },
  {
   "cell_type": "code",
   "execution_count": 23,
   "id": "149eff1b",
   "metadata": {},
   "outputs": [],
   "source": [
    "nbReviewPerProduct = defaultdict(int)\n",
    "for d in dataset:\n",
    "    nbReviewPerProduct[d['product_id']] +=1"
   ]
  },
  {
   "cell_type": "code",
   "execution_count": 24,
   "id": "656a67a7",
   "metadata": {},
   "outputs": [],
   "source": [
    "dataset = [d for d in dataset if nbReviewPerProduct[d['product_id']] <3 ]"
   ]
  },
  {
   "cell_type": "code",
   "execution_count": 25,
   "id": "81c35312",
   "metadata": {},
   "outputs": [
    {
     "data": {
      "text/plain": [
       "621"
      ]
     },
     "execution_count": 25,
     "metadata": {},
     "output_type": "execute_result"
    }
   ],
   "source": [
    "len(dataset)"
   ]
  },
  {
   "cell_type": "markdown",
   "id": "59b18282",
   "metadata": {},
   "source": [
    "### Filtering users who have only given '5-star' rating"
   ]
  },
  {
   "cell_type": "code",
   "execution_count": 26,
   "id": "5dd8d6da",
   "metadata": {},
   "outputs": [],
   "source": [
    "starRatingsOfUser = defaultdict(list)\n",
    "for d in dataset:\n",
    "    starRatingsOfUser[d['customer_id']].append(d['star_rating']) "
   ]
  },
  {
   "cell_type": "code",
   "execution_count": 27,
   "id": "ee4cc9b2",
   "metadata": {},
   "outputs": [],
   "source": [
    "dataset=[d for d in dataset if len(starRatingsOfUser[d['customer_id']])>starRatingsOfUser[d['customer_id']].count(5)]"
   ]
  },
  {
   "cell_type": "code",
   "execution_count": 28,
   "id": "861fac13",
   "metadata": {},
   "outputs": [
    {
     "data": {
      "text/plain": [
       "101"
      ]
     },
     "execution_count": 28,
     "metadata": {},
     "output_type": "execute_result"
    }
   ],
   "source": [
    "len(dataset)"
   ]
  },
  {
   "cell_type": "markdown",
   "id": "f9d5c6b0",
   "metadata": {},
   "source": [
    "### Filtering reviews that aren't part of vine program"
   ]
  },
  {
   "cell_type": "code",
   "execution_count": 29,
   "id": "190f5f5e",
   "metadata": {},
   "outputs": [],
   "source": [
    "dataset = [d for d in dataset if d['vine'] == True]"
   ]
  },
  {
   "cell_type": "code",
   "execution_count": 30,
   "id": "c850df5f",
   "metadata": {},
   "outputs": [
    {
     "data": {
      "text/plain": [
       "0"
      ]
     },
     "execution_count": 30,
     "metadata": {},
     "output_type": "execute_result"
    }
   ],
   "source": [
    "len(dataset)"
   ]
  },
  {
   "cell_type": "markdown",
   "id": "de298c17",
   "metadata": {},
   "source": [
    "### Filtering users who haven't written a review from 2014"
   ]
  },
  {
   "cell_type": "code",
   "execution_count": 31,
   "id": "2a426b91",
   "metadata": {},
   "outputs": [],
   "source": [
    "lastReviewOfEveryUser = defaultdict(int)\n",
    "for d in dataset2:\n",
    "    if  lastReviewOfEveryUser[d['customer_id']] < d['yearInt']:\n",
    "        lastReviewOfEveryUser[d['customer_id']] = d['yearInt']"
   ]
  },
  {
   "cell_type": "code",
   "execution_count": 32,
   "id": "e76a0baa",
   "metadata": {},
   "outputs": [
    {
     "data": {
      "text/plain": [
       "149086"
      ]
     },
     "execution_count": 32,
     "metadata": {},
     "output_type": "execute_result"
    }
   ],
   "source": [
    "len(dataset2)"
   ]
  },
  {
   "cell_type": "code",
   "execution_count": 33,
   "id": "bf873412",
   "metadata": {},
   "outputs": [],
   "source": [
    "dataset2 = [d for d in dataset2 if lastReviewOfEveryUser[d['customer_id']]>=2015]"
   ]
  },
  {
   "cell_type": "code",
   "execution_count": 34,
   "id": "954760f0",
   "metadata": {},
   "outputs": [
    {
     "data": {
      "text/plain": [
       "45345"
      ]
     },
     "execution_count": 34,
     "metadata": {},
     "output_type": "execute_result"
    }
   ],
   "source": [
    "len(dataset2)"
   ]
  },
  {
   "cell_type": "code",
   "execution_count": null,
   "id": "2289659c",
   "metadata": {},
   "outputs": [],
   "source": []
  }
 ],
 "metadata": {
  "kernelspec": {
   "display_name": "Python 3 (ipykernel)",
   "language": "python",
   "name": "python3"
  },
  "language_info": {
   "codemirror_mode": {
    "name": "ipython",
    "version": 3
   },
   "file_extension": ".py",
   "mimetype": "text/x-python",
   "name": "python",
   "nbconvert_exporter": "python",
   "pygments_lexer": "ipython3",
   "version": "3.10.9"
  }
 },
 "nbformat": 4,
 "nbformat_minor": 5
}
