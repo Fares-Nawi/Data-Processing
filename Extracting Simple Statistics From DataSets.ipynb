{
 "cells": [
  {
   "cell_type": "code",
   "execution_count": 1,
   "id": "63a76407",
   "metadata": {},
   "outputs": [],
   "source": [
    "import csv"
   ]
  },
  {
   "cell_type": "code",
   "execution_count": 2,
   "id": "ff4618c8",
   "metadata": {},
   "outputs": [],
   "source": [
    "f = open(\"/home/fares/Downloads/sample_us.tsv\")"
   ]
  },
  {
   "cell_type": "code",
   "execution_count": 3,
   "id": "1a9c35be",
   "metadata": {},
   "outputs": [],
   "source": [
    "reader = csv.reader(f, delimiter = '\\t')"
   ]
  },
  {
   "cell_type": "code",
   "execution_count": 4,
   "id": "61ad4185",
   "metadata": {},
   "outputs": [],
   "source": [
    "header = next(reader)"
   ]
  },
  {
   "cell_type": "code",
   "execution_count": 5,
   "id": "1c04fb8f",
   "metadata": {},
   "outputs": [
    {
     "data": {
      "text/plain": [
       "['marketplace',\n",
       " 'customer_id',\n",
       " 'review_id',\n",
       " 'product_id',\n",
       " 'product_parent',\n",
       " 'product_title',\n",
       " 'product_category',\n",
       " 'star_rating',\n",
       " 'helpful_votes',\n",
       " 'total_votes',\n",
       " 'vine',\n",
       " 'verified_purchase',\n",
       " 'review_headline',\n",
       " 'review_body',\n",
       " 'review_date']"
      ]
     },
     "execution_count": 5,
     "metadata": {},
     "output_type": "execute_result"
    }
   ],
   "source": [
    "header"
   ]
  },
  {
   "cell_type": "code",
   "execution_count": 6,
   "id": "af8fe624",
   "metadata": {},
   "outputs": [],
   "source": [
    "dataset = []\n",
    "for line in reader:\n",
    "    d = dict(zip(header,line))\n",
    "    for field in ['helpful_votes','star_rating','total_votes']:\n",
    "        d[field]= int(d[field])\n",
    "    for field in ['verified_purchase','vine']:\n",
    "        if d[field] == 'Y':\n",
    "            d[field] = True\n",
    "        else:\n",
    "            d[field] = False\n",
    "    dataset.append(d)"
   ]
  },
  {
   "cell_type": "markdown",
   "id": "c747c9f5",
   "metadata": {},
   "source": [
    "### Calculate the Average Rating "
   ]
  },
  {
   "cell_type": "code",
   "execution_count": 7,
   "id": "a8e7c7b0",
   "metadata": {},
   "outputs": [],
   "source": [
    "ratings = [d['star_rating'] for d in dataset]\n",
    "averageRating= sum(ratings)/len(ratings)"
   ]
  },
  {
   "cell_type": "code",
   "execution_count": 8,
   "id": "29efe17c",
   "metadata": {},
   "outputs": [
    {
     "data": {
      "text/plain": [
       "4.2"
      ]
     },
     "execution_count": 8,
     "metadata": {},
     "output_type": "execute_result"
    }
   ],
   "source": [
    "averageRating"
   ]
  },
  {
   "cell_type": "markdown",
   "id": "0fb5f218",
   "metadata": {},
   "source": [
    "### Rating distribution"
   ]
  },
  {
   "cell_type": "code",
   "execution_count": 9,
   "id": "60088329",
   "metadata": {},
   "outputs": [],
   "source": [
    "ratingCounts = {1: 0,2: 0,3: 0,4: 0,5: 0}"
   ]
  },
  {
   "cell_type": "code",
   "execution_count": 10,
   "id": "0c80b1a7",
   "metadata": {},
   "outputs": [],
   "source": [
    "for line in ratings:\n",
    "    ratingCounts[line] +=1"
   ]
  },
  {
   "cell_type": "code",
   "execution_count": 11,
   "id": "fa6d328c",
   "metadata": {
    "scrolled": false
   },
   "outputs": [
    {
     "data": {
      "text/plain": [
       "{1: 5, 2: 2, 3: 5, 4: 4, 5: 34}"
      ]
     },
     "execution_count": 11,
     "metadata": {},
     "output_type": "execute_result"
    }
   ],
   "source": [
    "ratingCounts"
   ]
  },
  {
   "cell_type": "markdown",
   "id": "28202796",
   "metadata": {},
   "source": [
    "### Calculate the rating distribution using 'defaultdict' in case the dataset has many categories"
   ]
  },
  {
   "cell_type": "code",
   "execution_count": 12,
   "id": "bc8ae63b",
   "metadata": {},
   "outputs": [],
   "source": [
    "from collections import defaultdict"
   ]
  },
  {
   "cell_type": "code",
   "execution_count": 13,
   "id": "56d2b1fa",
   "metadata": {},
   "outputs": [],
   "source": [
    "ratingCounts = defaultdict(int)"
   ]
  },
  {
   "cell_type": "code",
   "execution_count": 14,
   "id": "09811f3b",
   "metadata": {},
   "outputs": [],
   "source": [
    "for d in dataset:\n",
    "    ratingCounts[d['star_rating']] +=1"
   ]
  },
  {
   "cell_type": "code",
   "execution_count": 15,
   "id": "1d3338b3",
   "metadata": {},
   "outputs": [
    {
     "data": {
      "text/plain": [
       "defaultdict(int, {5: 34, 2: 2, 1: 5, 3: 5, 4: 4})"
      ]
     },
     "execution_count": 15,
     "metadata": {},
     "output_type": "execute_result"
    }
   ],
   "source": [
    "ratingCounts"
   ]
  },
  {
   "cell_type": "markdown",
   "id": "0f4599ff",
   "metadata": {},
   "source": [
    "### Verified purchases in the dataset"
   ]
  },
  {
   "cell_type": "code",
   "execution_count": 16,
   "id": "b6af93f9",
   "metadata": {},
   "outputs": [],
   "source": [
    "verifiedPurchases = defaultdict(int)"
   ]
  },
  {
   "cell_type": "code",
   "execution_count": 17,
   "id": "4bbd1b84",
   "metadata": {},
   "outputs": [],
   "source": [
    "for d in dataset:\n",
    "    verifiedPurchases[d['verified_purchase']] +=1"
   ]
  },
  {
   "cell_type": "code",
   "execution_count": 18,
   "id": "2bec8752",
   "metadata": {},
   "outputs": [
    {
     "data": {
      "text/plain": [
       "defaultdict(int, {True: 44, False: 6})"
      ]
     },
     "execution_count": 18,
     "metadata": {},
     "output_type": "execute_result"
    }
   ],
   "source": [
    "verifiedPurchases"
   ]
  },
  {
   "cell_type": "markdown",
   "id": "94525886",
   "metadata": {},
   "source": [
    "### Most Popular Products in the dataset"
   ]
  },
  {
   "cell_type": "code",
   "execution_count": 19,
   "id": "0397bb4f",
   "metadata": {},
   "outputs": [],
   "source": [
    "popularProducts = defaultdict(int)"
   ]
  },
  {
   "cell_type": "code",
   "execution_count": 20,
   "id": "ab871060",
   "metadata": {},
   "outputs": [],
   "source": [
    "for d in dataset:\n",
    "    popularProducts[d['product_id']] +=1"
   ]
  },
  {
   "cell_type": "code",
   "execution_count": 21,
   "id": "07f2cd57",
   "metadata": {},
   "outputs": [],
   "source": [
    "count = [(popularProducts[p] , p) for p in popularProducts]"
   ]
  },
  {
   "cell_type": "code",
   "execution_count": 22,
   "id": "a6012c4f",
   "metadata": {},
   "outputs": [],
   "source": [
    "count.sort()"
   ]
  },
  {
   "cell_type": "code",
   "execution_count": 23,
   "id": "5bf10cfc",
   "metadata": {},
   "outputs": [
    {
     "data": {
      "text/plain": [
       "[(1, 'B00UMSVHD4'),\n",
       " (1, 'B00UZOPOFW'),\n",
       " (1, 'B00V5DM3RE'),\n",
       " (1, 'B00VPXX92W'),\n",
       " (1, 'B00WAKEQLW'),\n",
       " (1, 'B00WJ1OPMW'),\n",
       " (1, 'B00XPWXYDK'),\n",
       " (1, 'B00YRA3H4U'),\n",
       " (1, 'B0101EHRSM'),\n",
       " (2, 'B00WTGGGRO')]"
      ]
     },
     "execution_count": 23,
     "metadata": {},
     "output_type": "execute_result"
    }
   ],
   "source": [
    "count[-10:]"
   ]
  },
  {
   "cell_type": "markdown",
   "id": "0d966827",
   "metadata": {},
   "source": [
    "### Top rated Products"
   ]
  },
  {
   "cell_type": "code",
   "execution_count": 24,
   "id": "dd0f5117",
   "metadata": {},
   "outputs": [],
   "source": [
    "ratingPerProduct = defaultdict(list)"
   ]
  },
  {
   "cell_type": "code",
   "execution_count": 25,
   "id": "31f51869",
   "metadata": {},
   "outputs": [],
   "source": [
    "for d in dataset :\n",
    "    ratingPerProduct[d['product_id']].append(d['star_rating'])"
   ]
  },
  {
   "cell_type": "code",
   "execution_count": 26,
   "id": "e3aafde9",
   "metadata": {},
   "outputs": [],
   "source": [
    "averageRatingPerProduct = {}\n",
    "for d in ratingPerProduct:\n",
    "    averageRatingPerProduct[d] = sum(ratingPerProduct[d])/len(ratingPerProduct[d])"
   ]
  },
  {
   "cell_type": "code",
   "execution_count": 38,
   "id": "b68ee58e",
   "metadata": {},
   "outputs": [],
   "source": [
    "topRatedProducts = [(averageRatingPerProduct[d],d) for d in averageRatingPerProduct if len(ratingPerProduct[d]) >0]"
   ]
  },
  {
   "cell_type": "code",
   "execution_count": 39,
   "id": "28970322",
   "metadata": {},
   "outputs": [],
   "source": [
    "topRatedProducts.sort()"
   ]
  },
  {
   "cell_type": "code",
   "execution_count": 40,
   "id": "3adc509a",
   "metadata": {},
   "outputs": [
    {
     "data": {
      "text/plain": [
       "[(5.0, 'B00IGXV9UI'),\n",
       " (5.0, 'B00JVY9J1M'),\n",
       " (5.0, 'B00KQUNNZ8'),\n",
       " (5.0, 'B00MZ6BR3Q'),\n",
       " (5.0, 'B00PXWS1CY'),\n",
       " (5.0, 'B00V5DM3RE'),\n",
       " (5.0, 'B00VPXX92W'),\n",
       " (5.0, 'B00WJ1OPMW'),\n",
       " (5.0, 'B00WTGGGRO'),\n",
       " (5.0, 'B00XPWXYDK')]"
      ]
     },
     "execution_count": 40,
     "metadata": {},
     "output_type": "execute_result"
    }
   ],
   "source": [
    "topRatedProducts[-10:]"
   ]
  },
  {
   "cell_type": "code",
   "execution_count": null,
   "id": "9adec3c3",
   "metadata": {},
   "outputs": [],
   "source": []
  }
 ],
 "metadata": {
  "kernelspec": {
   "display_name": "Python 3 (ipykernel)",
   "language": "python",
   "name": "python3"
  },
  "language_info": {
   "codemirror_mode": {
    "name": "ipython",
    "version": 3
   },
   "file_extension": ".py",
   "mimetype": "text/x-python",
   "name": "python",
   "nbconvert_exporter": "python",
   "pygments_lexer": "ipython3",
   "version": "3.10.9"
  }
 },
 "nbformat": 4,
 "nbformat_minor": 5
}
